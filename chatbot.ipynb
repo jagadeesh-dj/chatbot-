{
  "cells": [
    {
      "cell_type": "markdown",
      "metadata": {
        "id": "GovitJEo_XAl"
      },
      "source": [
        "BUILD FEEDFORWARD NEURAL NETWORK USING THE TENSORFLOW FRAMEWORK\n",
        "  1. IMPORTING THE REQUIRED PACKEAGES\n",
        "  2. TEXT PREPROCESSING WITH THE HELP OF NLP(word tokenization,lemmatization,remove special symbols,remove duplicate word,sorting,word vectorization)\n",
        "  3. CREATE THE FEEDFORWARD NEURAL NETWORK(MLP) WITH THE HELP OF SEQUENTIAL PREDEFINED CLASS IN THE KERAS LIBRARY(TENSORFLOW)\n",
        "  4. TRAIN THE NEURAL NETWORK MODEL BEFOR THAT COMPILE THE MODEL WITH SUCH PARAMETERS(loss function, optimizer,accuracy) AND MAKE TRAIN TO PASSING THE PARAMETER SUCH AS( epochs, batch_size, verbose)\n",
        "  5. AFTER THE TRAIN THE MODEL TEST THE MODEL PERFORMANCE\n",
        "  6. SAVE THE MODEL ON PYTHON PH5 FILE\n",
        "  7. BUILD AUTO EVALUATION MODEL\n"
      ]
    },
    {
      "cell_type": "code",
      "execution_count": null,
      "metadata": {
        "colab": {
          "base_uri": "https://localhost:8080/"
        },
        "id": "Mfb2JpUhFc9i",
        "outputId": "4e4a1b66-3792-47df-b467-721d9b6b081d"
      },
      "outputs": [
        {
          "name": "stderr",
          "output_type": "stream",
          "text": [
            "[nltk_data] Downloading package punkt to /root/nltk_data...\n",
            "[nltk_data]   Unzipping tokenizers/punkt.zip.\n",
            "[nltk_data] Downloading package wordnet to /root/nltk_data...\n"
          ]
        },
        {
          "data": {
            "text/plain": [
              "True"
            ]
          },
          "execution_count": 2,
          "metadata": {},
          "output_type": "execute_result"
        }
      ],
      "source": [
        "import tensorflow\n",
        "import pandas as pd\n",
        "import numpy as np\n",
        "import json\n",
        "import nltk\n",
        "from nltk.tokenize import word_tokenize\n",
        "from nltk.stem import WordNetLemmatizer\n",
        "import pickle\n",
        "import random\n",
        "from keras.models import Sequential, load_model\n",
        "from keras.layers import Dense, Activation, Dropout\n",
        "from keras.utils import plot_model\n",
        "from keras.optimizers.legacy import SGD\n",
        "\n",
        "nltk.download('punkt')\n",
        "nltk.download('wordnet')"
      ]
    },
    {
      "cell_type": "markdown",
      "metadata": {
        "id": "1hi35N0jDquu"
      },
      "source": [
        "TEXT PREPROCESSING WITH NLP\n",
        "  * CREATE EMPTY LIST AND PERFORM WORD TOKENIZATION,LEMMATIZATION,REMOVE SPECIAL SYMBOLS,SORTING, ON  PATTERN AND TAG  KEY ATTRIBUTE IN GIVEN DATASET AND APPEND THE DATA TO LIST\n",
        "  * AFTER APPEND THE DATA SORTING THE DATA USING SET FUNCTION\n",
        "\n"
      ]
    },
    {
      "cell_type": "code",
      "execution_count": null,
      "metadata": {
        "colab": {
          "base_uri": "https://localhost:8080/"
        },
        "id": "zRyNxjf2Fu0O",
        "outputId": "f9882098-a6aa-4558-c587-57c07e3a5aed"
      },
      "outputs": [
        {
          "name": "stdout",
          "output_type": "stream",
          "text": [
            "299\n",
            "['a', 'about', 'advantage', 'am', 'an', 'analyis', 'analysis', 'application', 'approach', 'are', 'bag', 'bro', 'bye', 'can', 'chat', 'cosine', 'data', 'day', 'define', 'definition', 'disadvantage', 'dude', 'embeddings', 'entity', 'explain', 'expression', 'friend', 'glove', 'goal', 'good', 'goodbye', 'gram', 'have', 'hello', 'hey', 'hi', 'history', 'how', 'i', 'in', 'information', 'is', 'later', 'leaving', 'lemmatization', 'library', 'long', 'me', 'memory', 'named', 'network', 'neural', 'nlp', 'normalization', 'of', 'or', 'part', 'provide', 'recognition', 'recurrent', 'regular', 'robo', 'see', 'sentiment', 'short', 'similarity', 'skip', 'so', 'speech', 'stemming', 'tagging', 'term', 'text', 'that', 'the', 'there', 'this', 'tokenization', 'type', 'up', 'what', 'whats', 'with', 'word', 'you']\n",
            "[(['Hi'], 'greeting'), (['Hello'], 'greeting'), (['Good', 'day'], 'greeting'), (['Hey', 'there'], 'greeting'), (['How', 'are', 'you'], 'greetingMore'), (['Whats', 'up'], 'greetingMore'), (['Bye'], 'goodbye'), (['See', 'you', 'later'], 'goodbye'), (['Goodbye'], 'goodbye'), (['I', 'am', 'Leaving'], 'goodbye'), (['Have', 'a', 'Good', 'day'], 'goodbye'), (['information'], 'unlogic'), (['definition'], 'unlogic'), (['what'], 'unlogic'), (['libraries'], 'unlogic'), (['approaches'], 'unlogic'), (['applications'], 'unlogic'), (['advantages'], 'unlogic'), (['so'], 'unlogic'), (['that'], 'unlogic'), (['this'], 'unlogic'), (['there'], 'unlogic'), (['are'], 'unlogic'), (['or'], 'unlogic'), (['me'], 'unlogic'), (['explain'], 'unlogic'), (['chat'], 'unlogic'), (['bro'], 'unlogic'), (['dude'], 'unlogic'), (['friend'], 'unlogic'), (['What', 'information', 'you', 'can', 'provide', '?'], 'info'), (['robo'], 'info'), (['What', 'is', 'NLP'], 'NLP'), (['Explain', 'NLP'], 'NLP'), (['Define', 'NLP'], 'NLP'), (['definition', 'of', 'NLP'], 'NLP'), (['NLP'], 'NLP'), (['History', 'about', 'NLP'], 'History'), (['NLP', 'History'], 'History'), (['History'], 'History'), (['what', 'are', 'the', 'approaches', 'of', 'nlp'], 'approaches'), (['NLP', 'approaches'], 'approaches'), (['what', 'are', 'the', 'advantages', 'in', 'nlp'], 'advantages'), (['NLP', 'advantages'], 'advantages'), (['what', 'are', 'the', 'disadvantages', 'in', 'nlp'], 'disadvantages'), (['NLP', 'disadvantages'], 'disadvantages'), (['what', 'are', 'the', 'applications', 'of', 'nlp'], 'applications'), (['NLP', 'applications'], 'applications'), (['types', 'of', 'applications', 'in', 'nlp'], 'applications'), (['what', 'are', 'the', 'libraries', 'in', 'nlp'], 'libraries'), (['NLP', 'libraries'], 'libraries'), (['types', 'of', 'libraries', 'in', 'nlp'], 'libraries'), (['what', 'is', 'tokenization'], 'tokenization '), (['what', 'are', 'the', 'tokenization'], 'tokenization '), (['types', 'of', 'tokenization'], 'tokenization '), (['what', 'are', 'the', 'lemmatization'], ' Lemmatization'), (['what', 'is', 'Lemmatization'], ' Lemmatization'), (['types', 'of', 'Lemmatization'], ' Lemmatization'), (['what', 'is', 'Stemming'], 'Stemming'), (['what', 'are', 'the', 'Stemming'], 'Stemming'), (['types', 'of', 'Stemming'], 'Stemming'), (['what', 'are', 'the', 'part', 'of', 'speech', 'tagging'], 'Part of Speech Tagging'), (['what', 'is', 'part', 'of', 'speech', 'tagging'], 'Part of Speech Tagging'), (['types', 'of', 'part', 'of', 'speech', 'tagging'], 'Part of Speech Tagging'), (['what', 'are', 'the', 'word', 'embeddings', 'in', 'nlp'], 'Word Embeddings in NLP'), (['what', 'is', 'word', 'embeddings', 'in', 'nlp'], 'Word Embeddings in NLP'), (['goal', 'of', 'word', 'embeddings', 'in', 'nlp'], 'Word Embeddings in NLP'), (['What', 'is', 'Recurrent', 'Neural', 'Network'], 'Introduction to Recurrent Neural Network'), (['what', 'are', 'recurrent', 'neural', 'network'], 'Introduction to Recurrent Neural Network'), (['what', 'are', 'normalization', 'of', 'text', 'in', 'nlp'], 'Normalization of Text in NLP'), (['what', 'is', 'normalization', 'of', 'text', 'in', 'nlp'], 'Normalization of Text in NLP'), (['what', 'is', 'bag', 'of', 'word'], 'Bag of Word'), (['What', 'are', 'the', 'bag', 'of', 'word'], 'Bag of Word'), (['what', 'is', 'cosine', 'similarity'], 'Cosine Similarity'), (['what', 'are', 'the', 'cosine', 'similarity'], 'Cosine Similarity'), (['what', 'is', 'regular', 'expressions'], 'Regular Expressions'), (['what', 'are', 'the', 'regular', 'expressions'], 'Regular Expressions'), (['what', 'is', 'glove', 'data'], 'Glove Data'), (['what', 'are', 'the', 'glove', 'data'], 'Glove Data'), (['what', 'is', 'skip', 'gram'], 'Skip Gram'), (['what', 'are', 'the', 'skip', 'gram'], 'Skip Gram'), (['what', 'is', 'named', 'entity', 'recognition'], 'Named Entity Recognition'), (['what', 'are', 'the', 'named', 'entity', 'recognition'], 'Named Entity Recognition'), (['what', 'is', 'long', 'short', 'term', 'memory', 'networks'], 'Long Short Term Memory Networks'), (['what', 'are', 'the', 'long', 'short', 'term', 'memory'], 'Long Short Term Memory Networks'), (['what', 'is', 'sentiment', 'analysis', 'with', 'an', 'recurrent', 'neural', 'networks'], 'Sentiment Analysis with an Recurrent Neural Networks'), (['what', 'are', 'the', 'sentiment', 'analyis', 'with', 'an', 'recurrent', 'neural', 'networks'], 'Sentiment Analysis with an Recurrent Neural Networks')]\n",
            "[' Lemmatization', 'Bag of Word', 'Cosine Similarity', 'Glove Data', 'History', 'Introduction to Recurrent Neural Network', 'Long Short Term Memory Networks', 'NLP', 'Named Entity Recognition', 'Normalization of Text in NLP', 'Part of Speech Tagging', 'Regular Expressions', 'Sentiment Analysis with an Recurrent Neural Networks', 'Skip Gram', 'Stemming', 'Word Embeddings in NLP', 'advantages', 'applications', 'approaches', 'disadvantages', 'goodbye', 'greeting', 'greetingMore', 'info', 'libraries', 'tokenization ', 'unlogic']\n"
          ]
        }
      ],
      "source": [
        "patterns=[]\n",
        "documents=[]\n",
        "tags=[]\n",
        "ignore=['!','?']\n",
        "data=pd.read_json('/content/data.json')\n",
        "for datas in data['intents']:\n",
        "  for pattern in datas['patterns']:\n",
        "    word_token_pattern=word_tokenize(pattern)\n",
        "    patterns.extend(word_token_pattern)\n",
        "\n",
        "    documents.append((word_token_pattern,datas['tag']))\n",
        "\n",
        "    if datas['tag'] not in tags:\n",
        "      tags.append(datas['tag'])\n",
        "print(len(patterns))\n",
        "lemmatizer=WordNetLemmatizer()\n",
        "patterns=[lemmatizer.lemmatize(words.lower()) for words in patterns if words not in ignore]\n",
        "patterns=sorted(list(set(patterns)))\n",
        "tags=sorted(list(set(tags)))\n",
        "print(patterns)\n",
        "print(documents)\n",
        "print(tags)"
      ]
    },
    {
      "cell_type": "markdown",
      "metadata": {
        "id": "rtIknEeqNkwg"
      },
      "source": [
        "SAVE THE DATA WITH PICKLE FILE"
      ]
    },
    {
      "cell_type": "code",
      "execution_count": null,
      "metadata": {
        "id": "CCeFHNb3LGys"
      },
      "outputs": [],
      "source": [
        "pickle.dump(patterns,open('patterns','wb'))\n",
        "pickle.dump(tags,open('tags','wb'))"
      ]
    },
    {
      "cell_type": "markdown",
      "metadata": {
        "id": "TEEYVo0ZNzib"
      },
      "source": [
        "WORD VECTORIZATION\n",
        "  * CONVERTING THE WORDS INTO REAL NUMBERS SUCH AS BINARY DIGIT BASED ON IN THE DOCUMENTS LIST OF WORDS IT AVAILABLE IN PREPROCESSED PATTERNS LIST, IF AVAILABLE MAKE APPEND IN TRAINING_DATA LIST AS 1 ELSE APPEND 0"
      ]
    },
    {
      "cell_type": "code",
      "execution_count": null,
      "metadata": {
        "colab": {
          "base_uri": "https://localhost:8080/"
        },
        "id": "yRUTdDHZLxoK",
        "outputId": "31c1aba5-5d93-4b31-fb75-b7ded3e18c24"
      },
      "outputs": [
        {
          "name": "stdout",
          "output_type": "stream",
          "text": [
            "87\n",
            "87\n"
          ]
        }
      ],
      "source": [
        "training_data=[]\n",
        "output_data=[0]*len(tags)\n",
        "for doc in documents:\n",
        "  bag_of_word=[]\n",
        "  patterns_words=doc[0]\n",
        "  patterns_words=[lemmatizer.lemmatize(patten.lower()) for patten in patterns_words]\n",
        "  # print(patterns_words)\n",
        "  for w in patterns:\n",
        "    if w in patterns_words:\n",
        "      bag_of_word.append(1)\n",
        "    else:\n",
        "      bag_of_word.append(0)\n",
        "  # print(bag_of_word)\n",
        "  output_row = list(output_data)\n",
        "  output_row[tags.index(doc[1])] = 1\n",
        "  # print(output_row)\n",
        "  training_data.append([bag_of_word,output_row])\n",
        "random.shuffle(training_data)\n",
        "trained_data=np.array(training_data,dtype='object')\n",
        "x=list(trained_data[:,0])\n",
        "y=list(trained_data[:,1])\n",
        "print(len(x))\n",
        "print(len(y))\n",
        "# from sklearn.model_selection import train_test_split\n",
        "# X_train, X_test, Y_train, Y_test=train_test_split(x,y,test_size=0.3,random_state=0)\n",
        "# # X_train, X_val, Y_train, Y_val=train_test_split(X_train, Y_train,test_size=0.2, random_state=0)\n",
        "# # print(len(X_train),len(X_val))\n",
        "# # print(len(Y_train),len(Y_test))"
      ]
    },
    {
      "cell_type": "markdown",
      "metadata": {
        "id": "E19mHKZnPCl8"
      },
      "source": [
        "BUILD FEEDFORWARD NEURAL NETWORK\n",
        "  * USING SEQUENTIAL PREDEFINED CLASS IN KERAS LIBRARY TO BUILD SIMPLE FEEDFORWARD NEURAL NETWORK WITH 128 NEURANS IN INPUT LAYER AND 64 NEURANS IN HIDDEN LAYER AND CALCLUATE LENGTH OF THE VARIABLE(y) NEURANS IN THE OUTPUT LAYER\n",
        "  * COMPILE THE MODEL WITH LOSS AND OPTIMIZATION FUNCTION THIS FUNCTION AIMS TO UPDATE THE WEIGHTS AND BIAS DURING THE TRAINING PROCESS AND ALSO MINIMIZE THE LOSS, THE LOSS FUNCTION MEASURES THE DIFFERENCE BETWEEN PREDICTED VALUES AND ACTUAL TARGET VALUE\n",
        "  * TRAIN THE MODEL WITH NO OF EPOCHS(ITERATIVE) BASED ON THE NUMBER OF EPOCHS MODEL CAN PERFORM VERY WELL"
      ]
    },
    {
      "cell_type": "code",
      "execution_count": null,
      "metadata": {
        "colab": {
          "base_uri": "https://localhost:8080/"
        },
        "id": "qc_7QQ-bTkHI",
        "outputId": "d1ffb2a9-43e0-46f5-e035-66c0833c9a31"
      },
      "outputs": [
        {
          "name": "stdout",
          "output_type": "stream",
          "text": [
            "Model: \"sequential\"\n",
            "_________________________________________________________________\n",
            " Layer (type)                Output Shape              Param #   \n",
            "=================================================================\n",
            " dense (Dense)               (None, 128)               11008     \n",
            "                                                                 \n",
            " dropout (Dropout)           (None, 128)               0         \n",
            "                                                                 \n",
            " dense_1 (Dense)             (None, 64)                8256      \n",
            "                                                                 \n",
            " dropout_1 (Dropout)         (None, 64)                0         \n",
            "                                                                 \n",
            " dense_2 (Dense)             (None, 27)                1755      \n",
            "                                                                 \n",
            "=================================================================\n",
            "Total params: 21019 (82.11 KB)\n",
            "Trainable params: 21019 (82.11 KB)\n",
            "Non-trainable params: 0 (0.00 Byte)\n",
            "_________________________________________________________________\n"
          ]
        },
        {
          "name": "stderr",
          "output_type": "stream",
          "text": [
            "/usr/local/lib/python3.10/dist-packages/keras/src/optimizers/legacy/gradient_descent.py:114: UserWarning: The `lr` argument is deprecated, use `learning_rate` instead.\n",
            "  super().__init__(name, **kwargs)\n"
          ]
        },
        {
          "name": "stdout",
          "output_type": "stream",
          "text": [
            "Epoch 1/250\n",
            "9/9 [==============================] - 1s 3ms/step - loss: 3.2782 - accuracy: 0.0230\n",
            "Epoch 2/250\n",
            "9/9 [==============================] - 0s 4ms/step - loss: 3.2479 - accuracy: 0.1724\n",
            "Epoch 3/250\n",
            "9/9 [==============================] - 0s 3ms/step - loss: 3.1712 - accuracy: 0.2299\n",
            "Epoch 4/250\n",
            "9/9 [==============================] - 0s 3ms/step - loss: 3.1461 - accuracy: 0.2184\n",
            "Epoch 5/250\n",
            "9/9 [==============================] - 0s 3ms/step - loss: 3.0802 - accuracy: 0.2414\n",
            "Epoch 6/250\n",
            "9/9 [==============================] - 0s 3ms/step - loss: 2.9647 - accuracy: 0.2414\n",
            "Epoch 7/250\n",
            "9/9 [==============================] - 0s 3ms/step - loss: 2.9778 - accuracy: 0.2184\n",
            "Epoch 8/250\n",
            "9/9 [==============================] - 0s 3ms/step - loss: 2.9389 - accuracy: 0.2184\n",
            "Epoch 9/250\n",
            "9/9 [==============================] - 0s 3ms/step - loss: 2.8349 - accuracy: 0.2414\n",
            "Epoch 10/250\n",
            "9/9 [==============================] - 0s 3ms/step - loss: 2.7732 - accuracy: 0.2644\n",
            "Epoch 11/250\n",
            "9/9 [==============================] - 0s 3ms/step - loss: 2.7248 - accuracy: 0.2644\n",
            "Epoch 12/250\n",
            "9/9 [==============================] - 0s 3ms/step - loss: 2.6809 - accuracy: 0.2759\n",
            "Epoch 13/250\n",
            "9/9 [==============================] - 0s 3ms/step - loss: 2.5432 - accuracy: 0.3103\n",
            "Epoch 14/250\n",
            "9/9 [==============================] - 0s 3ms/step - loss: 2.5435 - accuracy: 0.2989\n",
            "Epoch 15/250\n",
            "9/9 [==============================] - 0s 3ms/step - loss: 2.4901 - accuracy: 0.3218\n",
            "Epoch 16/250\n",
            "9/9 [==============================] - 0s 3ms/step - loss: 2.4827 - accuracy: 0.3333\n",
            "Epoch 17/250\n",
            "9/9 [==============================] - 0s 3ms/step - loss: 2.4182 - accuracy: 0.3103\n",
            "Epoch 18/250\n",
            "9/9 [==============================] - 0s 3ms/step - loss: 2.3222 - accuracy: 0.3218\n",
            "Epoch 19/250\n",
            "9/9 [==============================] - 0s 3ms/step - loss: 2.3185 - accuracy: 0.3448\n",
            "Epoch 20/250\n",
            "9/9 [==============================] - 0s 3ms/step - loss: 2.0951 - accuracy: 0.4023\n",
            "Epoch 21/250\n",
            "9/9 [==============================] - 0s 3ms/step - loss: 2.1232 - accuracy: 0.4253\n",
            "Epoch 22/250\n",
            "9/9 [==============================] - 0s 3ms/step - loss: 2.0825 - accuracy: 0.3908\n",
            "Epoch 23/250\n",
            "9/9 [==============================] - 0s 3ms/step - loss: 1.9801 - accuracy: 0.4253\n",
            "Epoch 24/250\n",
            "9/9 [==============================] - 0s 3ms/step - loss: 1.9430 - accuracy: 0.4943\n",
            "Epoch 25/250\n",
            "9/9 [==============================] - 0s 3ms/step - loss: 1.9314 - accuracy: 0.4483\n",
            "Epoch 26/250\n",
            "9/9 [==============================] - 0s 3ms/step - loss: 1.8563 - accuracy: 0.4713\n",
            "Epoch 27/250\n",
            "9/9 [==============================] - 0s 4ms/step - loss: 1.7713 - accuracy: 0.5057\n",
            "Epoch 28/250\n",
            "9/9 [==============================] - 0s 4ms/step - loss: 1.5543 - accuracy: 0.6092\n",
            "Epoch 29/250\n",
            "9/9 [==============================] - 0s 4ms/step - loss: 1.5393 - accuracy: 0.5862\n",
            "Epoch 30/250\n",
            "9/9 [==============================] - 0s 3ms/step - loss: 1.4341 - accuracy: 0.5517\n",
            "Epoch 31/250\n",
            "9/9 [==============================] - 0s 3ms/step - loss: 1.7484 - accuracy: 0.4828\n",
            "Epoch 32/250\n",
            "9/9 [==============================] - 0s 3ms/step - loss: 1.6203 - accuracy: 0.5747\n",
            "Epoch 33/250\n",
            "9/9 [==============================] - 0s 3ms/step - loss: 1.3949 - accuracy: 0.6322\n",
            "Epoch 34/250\n",
            "9/9 [==============================] - 0s 2ms/step - loss: 1.3892 - accuracy: 0.6437\n",
            "Epoch 35/250\n",
            "9/9 [==============================] - 0s 2ms/step - loss: 1.3302 - accuracy: 0.6207\n",
            "Epoch 36/250\n",
            "9/9 [==============================] - 0s 3ms/step - loss: 1.2863 - accuracy: 0.6437\n",
            "Epoch 37/250\n",
            "9/9 [==============================] - 0s 2ms/step - loss: 1.3840 - accuracy: 0.5517\n",
            "Epoch 38/250\n",
            "9/9 [==============================] - 0s 4ms/step - loss: 1.2962 - accuracy: 0.6322\n",
            "Epoch 39/250\n",
            "9/9 [==============================] - 0s 5ms/step - loss: 1.2027 - accuracy: 0.6782\n",
            "Epoch 40/250\n",
            "9/9 [==============================] - 0s 3ms/step - loss: 1.0939 - accuracy: 0.7126\n",
            "Epoch 41/250\n",
            "9/9 [==============================] - 0s 3ms/step - loss: 1.0107 - accuracy: 0.6897\n",
            "Epoch 42/250\n",
            "9/9 [==============================] - 0s 3ms/step - loss: 1.0416 - accuracy: 0.6667\n",
            "Epoch 43/250\n",
            "9/9 [==============================] - 0s 3ms/step - loss: 1.1198 - accuracy: 0.7356\n",
            "Epoch 44/250\n",
            "9/9 [==============================] - 0s 3ms/step - loss: 1.0163 - accuracy: 0.6552\n",
            "Epoch 45/250\n",
            "9/9 [==============================] - 0s 3ms/step - loss: 1.0162 - accuracy: 0.6897\n",
            "Epoch 46/250\n",
            "9/9 [==============================] - 0s 3ms/step - loss: 0.9620 - accuracy: 0.7356\n",
            "Epoch 47/250\n",
            "9/9 [==============================] - 0s 3ms/step - loss: 0.9458 - accuracy: 0.7241\n",
            "Epoch 48/250\n",
            "9/9 [==============================] - 0s 3ms/step - loss: 1.0122 - accuracy: 0.7241\n",
            "Epoch 49/250\n",
            "9/9 [==============================] - 0s 3ms/step - loss: 1.0323 - accuracy: 0.7241\n",
            "Epoch 50/250\n",
            "9/9 [==============================] - 0s 3ms/step - loss: 1.0042 - accuracy: 0.6782\n",
            "Epoch 51/250\n",
            "9/9 [==============================] - 0s 3ms/step - loss: 0.8852 - accuracy: 0.7126\n",
            "Epoch 52/250\n",
            "9/9 [==============================] - 0s 3ms/step - loss: 0.8632 - accuracy: 0.7816\n",
            "Epoch 53/250\n",
            "9/9 [==============================] - 0s 3ms/step - loss: 0.7918 - accuracy: 0.7471\n",
            "Epoch 54/250\n",
            "9/9 [==============================] - 0s 4ms/step - loss: 0.7477 - accuracy: 0.8161\n",
            "Epoch 55/250\n",
            "9/9 [==============================] - 0s 3ms/step - loss: 0.9416 - accuracy: 0.7356\n",
            "Epoch 56/250\n",
            "9/9 [==============================] - 0s 3ms/step - loss: 0.7108 - accuracy: 0.8046\n",
            "Epoch 57/250\n",
            "9/9 [==============================] - 0s 3ms/step - loss: 0.8953 - accuracy: 0.7241\n",
            "Epoch 58/250\n",
            "9/9 [==============================] - 0s 3ms/step - loss: 0.7625 - accuracy: 0.7701\n",
            "Epoch 59/250\n",
            "9/9 [==============================] - 0s 3ms/step - loss: 0.6426 - accuracy: 0.8276\n",
            "Epoch 60/250\n",
            "9/9 [==============================] - 0s 3ms/step - loss: 0.7192 - accuracy: 0.8161\n",
            "Epoch 61/250\n",
            "9/9 [==============================] - 0s 3ms/step - loss: 0.7304 - accuracy: 0.7701\n",
            "Epoch 62/250\n",
            "9/9 [==============================] - 0s 3ms/step - loss: 0.6304 - accuracy: 0.8736\n",
            "Epoch 63/250\n",
            "9/9 [==============================] - 0s 3ms/step - loss: 0.5466 - accuracy: 0.8161\n",
            "Epoch 64/250\n",
            "9/9 [==============================] - 0s 3ms/step - loss: 0.5908 - accuracy: 0.8506\n",
            "Epoch 65/250\n",
            "9/9 [==============================] - 0s 2ms/step - loss: 0.6648 - accuracy: 0.8161\n",
            "Epoch 66/250\n",
            "9/9 [==============================] - 0s 3ms/step - loss: 0.5741 - accuracy: 0.8161\n",
            "Epoch 67/250\n",
            "9/9 [==============================] - 0s 2ms/step - loss: 0.5618 - accuracy: 0.8851\n",
            "Epoch 68/250\n",
            "9/9 [==============================] - 0s 2ms/step - loss: 0.5814 - accuracy: 0.8276\n",
            "Epoch 69/250\n",
            "9/9 [==============================] - 0s 2ms/step - loss: 0.5482 - accuracy: 0.8851\n",
            "Epoch 70/250\n",
            "9/9 [==============================] - 0s 3ms/step - loss: 0.5315 - accuracy: 0.8506\n",
            "Epoch 71/250\n",
            "9/9 [==============================] - 0s 4ms/step - loss: 0.5597 - accuracy: 0.7816\n",
            "Epoch 72/250\n",
            "9/9 [==============================] - 0s 3ms/step - loss: 0.4694 - accuracy: 0.8851\n",
            "Epoch 73/250\n",
            "9/9 [==============================] - 0s 3ms/step - loss: 0.5056 - accuracy: 0.8391\n",
            "Epoch 74/250\n",
            "9/9 [==============================] - 0s 3ms/step - loss: 0.5443 - accuracy: 0.8506\n",
            "Epoch 75/250\n",
            "9/9 [==============================] - 0s 3ms/step - loss: 0.4689 - accuracy: 0.8736\n",
            "Epoch 76/250\n",
            "9/9 [==============================] - 0s 3ms/step - loss: 0.5303 - accuracy: 0.8161\n",
            "Epoch 77/250\n",
            "9/9 [==============================] - 0s 3ms/step - loss: 0.4529 - accuracy: 0.8621\n",
            "Epoch 78/250\n",
            "9/9 [==============================] - 0s 3ms/step - loss: 0.5455 - accuracy: 0.8506\n",
            "Epoch 79/250\n",
            "9/9 [==============================] - 0s 3ms/step - loss: 0.4719 - accuracy: 0.8851\n",
            "Epoch 80/250\n",
            "9/9 [==============================] - 0s 3ms/step - loss: 0.4265 - accuracy: 0.8621\n",
            "Epoch 81/250\n",
            "9/9 [==============================] - 0s 3ms/step - loss: 0.5892 - accuracy: 0.8391\n",
            "Epoch 82/250\n",
            "9/9 [==============================] - 0s 3ms/step - loss: 0.5354 - accuracy: 0.8161\n",
            "Epoch 83/250\n",
            "9/9 [==============================] - 0s 3ms/step - loss: 0.4070 - accuracy: 0.8736\n",
            "Epoch 84/250\n",
            "9/9 [==============================] - 0s 3ms/step - loss: 0.3678 - accuracy: 0.9080\n",
            "Epoch 85/250\n",
            "9/9 [==============================] - 0s 2ms/step - loss: 0.4551 - accuracy: 0.8621\n",
            "Epoch 86/250\n",
            "9/9 [==============================] - 0s 3ms/step - loss: 0.4610 - accuracy: 0.8736\n",
            "Epoch 87/250\n",
            "9/9 [==============================] - 0s 4ms/step - loss: 0.3201 - accuracy: 0.9425\n",
            "Epoch 88/250\n",
            "9/9 [==============================] - 0s 3ms/step - loss: 0.2620 - accuracy: 0.9770\n",
            "Epoch 89/250\n",
            "9/9 [==============================] - 0s 2ms/step - loss: 0.3920 - accuracy: 0.9195\n",
            "Epoch 90/250\n",
            "9/9 [==============================] - 0s 3ms/step - loss: 0.3500 - accuracy: 0.8966\n",
            "Epoch 91/250\n",
            "9/9 [==============================] - 0s 3ms/step - loss: 0.3281 - accuracy: 0.9310\n",
            "Epoch 92/250\n",
            "9/9 [==============================] - 0s 3ms/step - loss: 0.3154 - accuracy: 0.9310\n",
            "Epoch 93/250\n",
            "9/9 [==============================] - 0s 3ms/step - loss: 0.3858 - accuracy: 0.8851\n",
            "Epoch 94/250\n",
            "9/9 [==============================] - 0s 3ms/step - loss: 0.3233 - accuracy: 0.9195\n",
            "Epoch 95/250\n",
            "9/9 [==============================] - 0s 3ms/step - loss: 0.3828 - accuracy: 0.9080\n",
            "Epoch 96/250\n",
            "9/9 [==============================] - 0s 3ms/step - loss: 0.3811 - accuracy: 0.9080\n",
            "Epoch 97/250\n",
            "9/9 [==============================] - 0s 3ms/step - loss: 0.3793 - accuracy: 0.8851\n",
            "Epoch 98/250\n",
            "9/9 [==============================] - 0s 3ms/step - loss: 0.1875 - accuracy: 0.9770\n",
            "Epoch 99/250\n",
            "9/9 [==============================] - 0s 3ms/step - loss: 0.2835 - accuracy: 0.9310\n",
            "Epoch 100/250\n",
            "9/9 [==============================] - 0s 3ms/step - loss: 0.2430 - accuracy: 0.9425\n",
            "Epoch 101/250\n",
            "9/9 [==============================] - 0s 3ms/step - loss: 0.3012 - accuracy: 0.9195\n",
            "Epoch 102/250\n",
            "9/9 [==============================] - 0s 3ms/step - loss: 0.2836 - accuracy: 0.9310\n",
            "Epoch 103/250\n",
            "9/9 [==============================] - 0s 3ms/step - loss: 0.2872 - accuracy: 0.9310\n",
            "Epoch 104/250\n",
            "9/9 [==============================] - 0s 3ms/step - loss: 0.3288 - accuracy: 0.8966\n",
            "Epoch 105/250\n",
            "9/9 [==============================] - 0s 3ms/step - loss: 0.4017 - accuracy: 0.8161\n",
            "Epoch 106/250\n",
            "9/9 [==============================] - 0s 3ms/step - loss: 0.1943 - accuracy: 0.9655\n",
            "Epoch 107/250\n",
            "9/9 [==============================] - 0s 3ms/step - loss: 0.2226 - accuracy: 0.9540\n",
            "Epoch 108/250\n",
            "9/9 [==============================] - 0s 2ms/step - loss: 0.2756 - accuracy: 0.9195\n",
            "Epoch 109/250\n",
            "9/9 [==============================] - 0s 3ms/step - loss: 0.2874 - accuracy: 0.9195\n",
            "Epoch 110/250\n",
            "9/9 [==============================] - 0s 3ms/step - loss: 0.3123 - accuracy: 0.8506\n",
            "Epoch 111/250\n",
            "9/9 [==============================] - 0s 3ms/step - loss: 0.2685 - accuracy: 0.9310\n",
            "Epoch 112/250\n",
            "9/9 [==============================] - 0s 3ms/step - loss: 0.2897 - accuracy: 0.9310\n",
            "Epoch 113/250\n",
            "9/9 [==============================] - 0s 3ms/step - loss: 0.3018 - accuracy: 0.9080\n",
            "Epoch 114/250\n",
            "9/9 [==============================] - 0s 3ms/step - loss: 0.2532 - accuracy: 0.9425\n",
            "Epoch 115/250\n",
            "9/9 [==============================] - 0s 3ms/step - loss: 0.2515 - accuracy: 0.9310\n",
            "Epoch 116/250\n",
            "9/9 [==============================] - 0s 3ms/step - loss: 0.2052 - accuracy: 0.9540\n",
            "Epoch 117/250\n",
            "9/9 [==============================] - 0s 3ms/step - loss: 0.2326 - accuracy: 0.9425\n",
            "Epoch 118/250\n",
            "9/9 [==============================] - 0s 3ms/step - loss: 0.2346 - accuracy: 0.9540\n",
            "Epoch 119/250\n",
            "9/9 [==============================] - 0s 4ms/step - loss: 0.2193 - accuracy: 0.9425\n",
            "Epoch 120/250\n",
            "9/9 [==============================] - 0s 3ms/step - loss: 0.2416 - accuracy: 0.9425\n",
            "Epoch 121/250\n",
            "9/9 [==============================] - 0s 3ms/step - loss: 0.2164 - accuracy: 0.9540\n",
            "Epoch 122/250\n",
            "9/9 [==============================] - 0s 3ms/step - loss: 0.2540 - accuracy: 0.9425\n",
            "Epoch 123/250\n",
            "9/9 [==============================] - 0s 3ms/step - loss: 0.2656 - accuracy: 0.9310\n",
            "Epoch 124/250\n",
            "9/9 [==============================] - 0s 4ms/step - loss: 0.2188 - accuracy: 0.9540\n",
            "Epoch 125/250\n",
            "9/9 [==============================] - 0s 4ms/step - loss: 0.2660 - accuracy: 0.9195\n",
            "Epoch 126/250\n",
            "9/9 [==============================] - 0s 5ms/step - loss: 0.3470 - accuracy: 0.8966\n",
            "Epoch 127/250\n",
            "9/9 [==============================] - 0s 5ms/step - loss: 0.2351 - accuracy: 0.9540\n",
            "Epoch 128/250\n",
            "9/9 [==============================] - 0s 4ms/step - loss: 0.2564 - accuracy: 0.9310\n",
            "Epoch 129/250\n",
            "9/9 [==============================] - 0s 4ms/step - loss: 0.2275 - accuracy: 0.9310\n",
            "Epoch 130/250\n",
            "9/9 [==============================] - 0s 5ms/step - loss: 0.2037 - accuracy: 0.9425\n",
            "Epoch 131/250\n",
            "9/9 [==============================] - 0s 5ms/step - loss: 0.1801 - accuracy: 0.9655\n",
            "Epoch 132/250\n",
            "9/9 [==============================] - 0s 5ms/step - loss: 0.2155 - accuracy: 0.9310\n",
            "Epoch 133/250\n",
            "9/9 [==============================] - 0s 6ms/step - loss: 0.2526 - accuracy: 0.9310\n",
            "Epoch 134/250\n",
            "9/9 [==============================] - 0s 5ms/step - loss: 0.1814 - accuracy: 0.9425\n",
            "Epoch 135/250\n",
            "9/9 [==============================] - 0s 5ms/step - loss: 0.1852 - accuracy: 0.9540\n",
            "Epoch 136/250\n",
            "9/9 [==============================] - 0s 4ms/step - loss: 0.2559 - accuracy: 0.9080\n",
            "Epoch 137/250\n",
            "9/9 [==============================] - 0s 5ms/step - loss: 0.2145 - accuracy: 0.9310\n",
            "Epoch 138/250\n",
            "9/9 [==============================] - 0s 5ms/step - loss: 0.2657 - accuracy: 0.9080\n",
            "Epoch 139/250\n",
            "9/9 [==============================] - 0s 4ms/step - loss: 0.2051 - accuracy: 0.9425\n",
            "Epoch 140/250\n",
            "9/9 [==============================] - 0s 3ms/step - loss: 0.1501 - accuracy: 0.9885\n",
            "Epoch 141/250\n",
            "9/9 [==============================] - 0s 3ms/step - loss: 0.1307 - accuracy: 0.9885\n",
            "Epoch 142/250\n",
            "9/9 [==============================] - 0s 3ms/step - loss: 0.2551 - accuracy: 0.9195\n",
            "Epoch 143/250\n",
            "9/9 [==============================] - 0s 3ms/step - loss: 0.3208 - accuracy: 0.8736\n",
            "Epoch 144/250\n",
            "9/9 [==============================] - 0s 3ms/step - loss: 0.1737 - accuracy: 0.9655\n",
            "Epoch 145/250\n",
            "9/9 [==============================] - 0s 3ms/step - loss: 0.2388 - accuracy: 0.9310\n",
            "Epoch 146/250\n",
            "9/9 [==============================] - 0s 3ms/step - loss: 0.2315 - accuracy: 0.9425\n",
            "Epoch 147/250\n",
            "9/9 [==============================] - 0s 3ms/step - loss: 0.1465 - accuracy: 0.9540\n",
            "Epoch 148/250\n",
            "9/9 [==============================] - 0s 3ms/step - loss: 0.2323 - accuracy: 0.9195\n",
            "Epoch 149/250\n",
            "9/9 [==============================] - 0s 3ms/step - loss: 0.2449 - accuracy: 0.9195\n",
            "Epoch 150/250\n",
            "9/9 [==============================] - 0s 4ms/step - loss: 0.1821 - accuracy: 0.9655\n",
            "Epoch 151/250\n",
            "9/9 [==============================] - 0s 3ms/step - loss: 0.2267 - accuracy: 0.9080\n",
            "Epoch 152/250\n",
            "9/9 [==============================] - 0s 3ms/step - loss: 0.2014 - accuracy: 0.9310\n",
            "Epoch 153/250\n",
            "9/9 [==============================] - 0s 3ms/step - loss: 0.2077 - accuracy: 0.9425\n",
            "Epoch 154/250\n",
            "9/9 [==============================] - 0s 3ms/step - loss: 0.2269 - accuracy: 0.9310\n",
            "Epoch 155/250\n",
            "9/9 [==============================] - 0s 3ms/step - loss: 0.1644 - accuracy: 0.9540\n",
            "Epoch 156/250\n",
            "9/9 [==============================] - 0s 3ms/step - loss: 0.1324 - accuracy: 0.9885\n"
          ]
        }
      ],
      "source": [
        "model=tensorflow.keras.models.Sequential()\n",
        "model.add(Dense(128, input_shape=(len(x[0]),), activation='relu'))\n",
        "model.add(Dropout(0.5))\n",
        "model.add(Dense(64, activation='relu'))\n",
        "model.add(Dropout(0.5))\n",
        "model.add(Dense(len(y[0]), activation='softmax'))\n",
        "model.summary()\n",
        "sgd = SGD(lr=0.01, decay=1e-6, momentum=0.9, nesterov=True)\n",
        "model.compile(loss='categorical_crossentropy', optimizer=sgd, metrics=['accuracy'])\n",
        "hist = model.fit(x,y, epochs=250, batch_size=10, verbose=1)"
      ]
    },
    {
      "cell_type": "markdown",
      "metadata": {
        "id": "SfjCl41dSLTf"
      },
      "source": [
        "EVALUATING THE MODEL PERFORMANCE"
      ]
    },
    {
      "cell_type": "code",
      "execution_count": null,
      "metadata": {
        "id": "E-A0RNVInUCr"
      },
      "outputs": [],
      "source": [
        "scores = model.evaluate(x,y,verbose=1)\n",
        "print(\"\\n%s: %.2f%%\" % (model.metrics_names[1], scores[1]*100))"
      ]
    },
    {
      "cell_type": "markdown",
      "metadata": {
        "id": "4oPkt7N7ShC5"
      },
      "source": [
        "PLOT THE STRUCTURE OF THE FEEDFORWARD NEURAL NETWORK"
      ]
    },
    {
      "cell_type": "code",
      "execution_count": null,
      "metadata": {
        "id": "GQ0YJo4pf-sc"
      },
      "outputs": [],
      "source": [
        "plot_model(model, to_file='model.png', show_shapes=True, show_layer_names=True)\n"
      ]
    },
    {
      "cell_type": "markdown",
      "metadata": {
        "id": "ptx-twbjTfo5"
      },
      "source": [
        "SAVE THE MODEL USING PY5H FILE"
      ]
    },
    {
      "cell_type": "code",
      "execution_count": null,
      "metadata": {
        "id": "Gm6ZETMXhiBr"
      },
      "outputs": [],
      "source": [
        "save_model=model.save('model.h5',hist)\n",
        "# import visualkeras\n",
        "# visualkeras.layered_view(model,legend=True)"
      ]
    },
    {
      "cell_type": "markdown",
      "metadata": {
        "id": "VYdCDTg0SqjK"
      },
      "source": [
        "VISUALIZING THE MODEL PERFORMANCE"
      ]
    },
    {
      "cell_type": "code",
      "execution_count": null,
      "metadata": {
        "id": "SpuUK3zQmaaO"
      },
      "outputs": [],
      "source": [
        "import matplotlib.pyplot as plt\n",
        "training_acc=hist.history['accuracy']\n",
        "epochs=range(250)\n",
        "plt.plot(epochs,training_acc,'r',label='training_accuracy')\n",
        "plt.title('training accuracy vs epochs')\n",
        "plt.xlabel('Epochs')\n",
        "plt.ylabel('Training Accuracy')\n",
        "plt.legend()\n",
        "plt.show()"
      ]
    },
    {
      "cell_type": "code",
      "execution_count": null,
      "metadata": {
        "colab": {
          "background_save": true
        },
        "id": "ACkVWfharsJp",
        "outputId": "5d6cb490-6f42-4831-a416-ff2aed65b4e6"
      },
      "outputs": [
        {
          "data": {
            "image/png": "[encoded data removed]",
            "text/plain": [
              "<Figure size 640x480 with 1 Axes>"
            ]
          },
          "metadata": {},
          "output_type": "display_data"
        }
      ],
      "source": [
        "\n",
        "training_loss=hist.history['loss']\n",
        "epochs=range(250)\n",
        "plt.plot(epochs,training_loss,'r',label='training_loss')\n",
        "plt.title('training loss vs epochs')\n",
        "plt.xlabel('Epochs')\n",
        "plt.ylabel('Training loss')\n",
        "plt.legend()\n",
        "plt.show()"
      ]
    },
    {
      "cell_type": "code",
      "execution_count": null,
      "metadata": {
        "colab": {
          "background_save": true
        },
        "id": "yPMxkiUHpz7k",
        "outputId": "20a6fe83-db77-4ac2-8da8-5329214f70d9"
      },
      "outputs": [
        {
          "data": {
            "image/png": "[encoded data removed]",
            "text/plain": [
              "<Figure size 640x480 with 1 Axes>"
            ]
          },
          "metadata": {},
          "output_type": "display_data"
        }
      ],
      "source": [
        "training_loss=hist.history['loss']\n",
        "training_accuracy=hist.history['accuracy']\n",
        "epochs=range(250)\n",
        "plt.plot(epochs,training_loss,'r',label='training_loss')\n",
        "plt.plot(epochs,training_accuracy,'b',label='training_accuracy')\n",
        "plt.title('training loss vs training acc')\n",
        "plt.xlabel('Epochs')\n",
        "plt.ylabel('Training loss')\n",
        "plt.legend()\n",
        "plt.show()"
      ]
    },
    {
      "cell_type": "markdown",
      "metadata": {
        "id": "A7Roh8FXSxbK"
      },
      "source": [
        "AUTOMATIC EVALUATION PROCESS\n"
      ]
    },
    {
      "cell_type": "code",
      "execution_count": null,
      "metadata": {
        "colab": {
          "background_save": true
        },
        "id": "OeFpK-kvjz0M"
      },
      "outputs": [],
      "source": [
        "savedmodel=load_model(\"model.h5\")\n",
        "dataset=pd.read_json('/content/data.json')\n",
        "pattern=pickle.load(open('/content/patterns','rb'))\n",
        "tag=pickle.load(open('/content/tags','rb'))\n"
      ]
    },
    {
      "cell_type": "code",
      "execution_count": null,
      "metadata": {
        "id": "HdgwGkqIoLgQ"
      },
      "outputs": [],
      "source": [
        "from sklearn.metrics import accuracy_score\n",
        "\n",
        "def clean_input(message):\n",
        "  word_token=word_tokenize(message)\n",
        "  word=[lemmatizer.lemmatize(w.lower()) for w in word_token]\n",
        "  return word\n",
        "\n",
        "def bow(message,patterns):\n",
        "  clean=clean_input(message)\n",
        "  bag=[0]*len(patterns)\n",
        "  for x in clean:\n",
        "    for i,w in enumerate(patterns):\n",
        "      if w==x:\n",
        "        bag[i]=1\n",
        "  return (np.array(bag))\n",
        "\n",
        "def predict_patterns(message,savedmodel):\n",
        "  bag=bow(message,patterns)\n",
        "  pred=savedmodel.predict(np.array([bag]))[0]\n",
        "  print(pred)\n",
        "  ERROR_THRESHOLD = 0.25\n",
        "\n",
        "  result=[[i,w] for i,w in enumerate(pred) if w > ERROR_THRESHOLD ]\n",
        "  print(result)\n",
        "  result.sort(key=lambda x: x[1], reverse=True)\n",
        "\n",
        "  predict_result=[]\n",
        "  for r in result:\n",
        "    predict_result.append({'tag': tag[r[0]], 'probability': str(r[1])})\n",
        "    return predict_result\n",
        "\n",
        "import random\n",
        "def get_response(predict,message):\n",
        "    tags=predict[0]['tag']\n",
        "    patterns=dataset['intents']\n",
        "    for data in patterns:\n",
        "      if data['tag']==tags:\n",
        "        print(random.choice(data['responses']))\n",
        "\n",
        "\n",
        "def chatbot_response():\n",
        "  global message\n",
        "  predict=predict_patterns(message,savedmodel)\n",
        "  response=get_response(predict,message)\n",
        "\n",
        "while True:\n",
        "  message=str(input(\"enter the message: \"))\n",
        "  if message!='':\n",
        "      chatbot_response()\n",
        "  else:\n",
        "    break\n",
        "\n"
      ]
    },
    {
      "cell_type": "code",
      "execution_count": null,
      "metadata": {
        "id": "xbIMU_LrcDoz"
      },
      "outputs": [],
      "source": [
        " # Initialize the recognizer\n",
        "    recognizer = sr.Recognizer()\n",
        "\n",
        "    # Record audio from a microphone\n",
        "    with sr.Microphone() as source:\n",
        "        print(\"Say something...\")\n",
        "        audio = recognizer.listen(source)\n",
        "\n",
        "    # Use a speech-to-text API to convert the audio to text\n",
        "    try:\n",
        "        text = recognizer.recognize_google(audio)  # You can also use other APIs like recognize_bing or recognize_wit\n",
        "        print(\"You said: \" + text)\n",
        "\n",
        "        if text!=None:\n",
        "            response=chatbot_response(text)\n",
        "            return JsonResponse({\"res\":response,\"text\":text})\n",
        "    except sr.UnknownValueError:\n",
        "        print(\"Sorry, I couldn't understand what you said.\")\n",
        "    except sr.RequestError as e:\n",
        "        print(\"Error making the request; {0}\".format(e))\n",
        "\n",
        "\n",
        "\n",
        "\n"
      ]
    }
  ],
  "metadata": {
    "colab": {
      "provenance": []
    },
    "kernelspec": {
      "display_name": "Python 3",
      "name": "python3"
    },
    "language_info": {
      "name": "python"
    }
  },
  "nbformat": 4,
  "nbformat_minor": 0
}